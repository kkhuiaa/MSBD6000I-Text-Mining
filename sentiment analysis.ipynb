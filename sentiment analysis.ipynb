{
 "cells": [
  {
   "cell_type": "code",
   "execution_count": 4,
   "metadata": {},
   "outputs": [],
   "source": [
    "import numpy as np\n",
    "import pandas as pd\n",
    "import nltk\n",
    "\n",
    "from nltk.sentiment.vader import SentimentIntensityAnalyzer\n",
    "\n",
    "from textblob import TextBlob\n",
    "from textblob.sentiments import NaiveBayesAnalyzer"
   ]
  },
  {
   "cell_type": "code",
   "execution_count": 4,
   "metadata": {},
   "outputs": [],
   "source": [
    "data = pd.read_csv('news_20171001-20200430')"
   ]
  },
  {
   "cell_type": "code",
   "execution_count": 5,
   "metadata": {},
   "outputs": [
    {
     "data": {
      "text/html": [
       "<div>\n",
       "<style scoped>\n",
       "    .dataframe tbody tr th:only-of-type {\n",
       "        vertical-align: middle;\n",
       "    }\n",
       "\n",
       "    .dataframe tbody tr th {\n",
       "        vertical-align: top;\n",
       "    }\n",
       "\n",
       "    .dataframe thead th {\n",
       "        text-align: right;\n",
       "    }\n",
       "</style>\n",
       "<table border=\"1\" class=\"dataframe\">\n",
       "  <thead>\n",
       "    <tr style=\"text-align: right;\">\n",
       "      <th></th>\n",
       "      <th>Unnamed: 0</th>\n",
       "      <th>author</th>\n",
       "      <th>title</th>\n",
       "      <th>description</th>\n",
       "      <th>url</th>\n",
       "      <th>publishedAt</th>\n",
       "      <th>content</th>\n",
       "      <th>from</th>\n",
       "      <th>date</th>\n",
       "    </tr>\n",
       "  </thead>\n",
       "  <tbody>\n",
       "    <tr>\n",
       "      <td>0</td>\n",
       "      <td>0</td>\n",
       "      <td>Samuel Wade</td>\n",
       "      <td>Katy Perry, Publishers, and Self-censorship in...</td>\n",
       "      <td>On Monday, CDT Chinese reposted a letter circu...</td>\n",
       "      <td>https://chinadigitaltimes.net/2017/11/katy-per...</td>\n",
       "      <td>2017-11-08T02:59:56Z</td>\n",
       "      <td>On Monday, CDT Chinese reposted a letter circu...</td>\n",
       "      <td>Chinadigitaltimes.net</td>\n",
       "      <td>2017-11-08</td>\n",
       "    </tr>\n",
       "    <tr>\n",
       "      <td>1</td>\n",
       "      <td>1</td>\n",
       "      <td>Jesse Hamilton</td>\n",
       "      <td>Bank of Amazon? Regulator Floats Idea of Mergi...</td>\n",
       "      <td>Bloomberg Bank of Amazon? Regulator Floats Ide...</td>\n",
       "      <td>https://www.bloomberg.com/news/articles/2017-1...</td>\n",
       "      <td>2017-11-08T15:07:48Z</td>\n",
       "      <td>Bank of Amazon. Facebook Financial. Wal-Bank. ...</td>\n",
       "      <td>Bloomberg</td>\n",
       "      <td>2017-11-08</td>\n",
       "    </tr>\n",
       "    <tr>\n",
       "      <td>2</td>\n",
       "      <td>2</td>\n",
       "      <td>NaN</td>\n",
       "      <td>Video games could be next for Snapchat, China'...</td>\n",
       "      <td>Chinese gaming and social media company Tencen...</td>\n",
       "      <td>https://japantoday.com/category/tech/update-2-...</td>\n",
       "      <td>2017-11-09T22:24:06Z</td>\n",
       "      <td>Chinese gaming and social media company Tencen...</td>\n",
       "      <td>Japantoday.com</td>\n",
       "      <td>2017-11-09</td>\n",
       "    </tr>\n",
       "    <tr>\n",
       "      <td>3</td>\n",
       "      <td>3</td>\n",
       "      <td>Tim Dixon</td>\n",
       "      <td>DiDi’s Huge Role In The Quickly Developing Chi...</td>\n",
       "      <td>Didi Chuxing (China's Uber-like ride-hailing s...</td>\n",
       "      <td>https://cleantechnica.com/2017/11/09/didis-hug...</td>\n",
       "      <td>2017-11-09T23:50:30Z</td>\n",
       "      <td>Cars Published on November 9th, 2017 | by Tim ...</td>\n",
       "      <td>Cleantechnica.com</td>\n",
       "      <td>2017-11-09</td>\n",
       "    </tr>\n",
       "    <tr>\n",
       "      <td>4</td>\n",
       "      <td>4</td>\n",
       "      <td>NaN</td>\n",
       "      <td>Why You Should Buy JD.Com Inc(ADR) Stock Immed...</td>\n",
       "      <td>Shares of JD.com Inc(ADR) (NASDAQ:JD) have set...</td>\n",
       "      <td>https://finance.yahoo.com/news/why-buy-jd-com-...</td>\n",
       "      <td>2017-11-09T17:05:21Z</td>\n",
       "      <td>Shares of JD.com Inc(ADR) (NASDAQ: JD ) have s...</td>\n",
       "      <td>Yahoo.com</td>\n",
       "      <td>2017-11-09</td>\n",
       "    </tr>\n",
       "  </tbody>\n",
       "</table>\n",
       "</div>"
      ],
      "text/plain": [
       "   Unnamed: 0          author  \\\n",
       "0           0     Samuel Wade   \n",
       "1           1  Jesse Hamilton   \n",
       "2           2             NaN   \n",
       "3           3       Tim Dixon   \n",
       "4           4             NaN   \n",
       "\n",
       "                                               title  \\\n",
       "0  Katy Perry, Publishers, and Self-censorship in...   \n",
       "1  Bank of Amazon? Regulator Floats Idea of Mergi...   \n",
       "2  Video games could be next for Snapchat, China'...   \n",
       "3  DiDi’s Huge Role In The Quickly Developing Chi...   \n",
       "4  Why You Should Buy JD.Com Inc(ADR) Stock Immed...   \n",
       "\n",
       "                                         description  \\\n",
       "0  On Monday, CDT Chinese reposted a letter circu...   \n",
       "1  Bloomberg Bank of Amazon? Regulator Floats Ide...   \n",
       "2  Chinese gaming and social media company Tencen...   \n",
       "3  Didi Chuxing (China's Uber-like ride-hailing s...   \n",
       "4  Shares of JD.com Inc(ADR) (NASDAQ:JD) have set...   \n",
       "\n",
       "                                                 url           publishedAt  \\\n",
       "0  https://chinadigitaltimes.net/2017/11/katy-per...  2017-11-08T02:59:56Z   \n",
       "1  https://www.bloomberg.com/news/articles/2017-1...  2017-11-08T15:07:48Z   \n",
       "2  https://japantoday.com/category/tech/update-2-...  2017-11-09T22:24:06Z   \n",
       "3  https://cleantechnica.com/2017/11/09/didis-hug...  2017-11-09T23:50:30Z   \n",
       "4  https://finance.yahoo.com/news/why-buy-jd-com-...  2017-11-09T17:05:21Z   \n",
       "\n",
       "                                             content                   from  \\\n",
       "0  On Monday, CDT Chinese reposted a letter circu...  Chinadigitaltimes.net   \n",
       "1  Bank of Amazon. Facebook Financial. Wal-Bank. ...              Bloomberg   \n",
       "2  Chinese gaming and social media company Tencen...         Japantoday.com   \n",
       "3  Cars Published on November 9th, 2017 | by Tim ...      Cleantechnica.com   \n",
       "4  Shares of JD.com Inc(ADR) (NASDAQ: JD ) have s...              Yahoo.com   \n",
       "\n",
       "         date  \n",
       "0  2017-11-08  \n",
       "1  2017-11-08  \n",
       "2  2017-11-09  \n",
       "3  2017-11-09  \n",
       "4  2017-11-09  "
      ]
     },
     "execution_count": 5,
     "metadata": {},
     "output_type": "execute_result"
    }
   ],
   "source": [
    "data.head()"
   ]
  },
  {
   "cell_type": "code",
   "execution_count": 9,
   "metadata": {},
   "outputs": [
    {
     "data": {
      "text/plain": [
       "Unnamed: 0     5348\n",
       "author         4542\n",
       "title          5347\n",
       "description    5282\n",
       "url            5348\n",
       "publishedAt    5348\n",
       "content        4994\n",
       "from           5348\n",
       "date           5348\n",
       "dtype: int64"
      ]
     },
     "execution_count": 9,
     "metadata": {},
     "output_type": "execute_result"
    }
   ],
   "source": [
    "data.count()"
   ]
  },
  {
   "cell_type": "markdown",
   "metadata": {},
   "source": [
    "## Using text blob"
   ]
  },
  {
   "cell_type": "code",
   "execution_count": 10,
   "metadata": {},
   "outputs": [],
   "source": [
    "date = list()\n",
    "title_pos = list()\n",
    "title_neg = list()\n",
    "desc_pos = list()\n",
    "desc_neg = list()\n",
    "content_pos = list()\n",
    "content_neg = list()"
   ]
  },
  {
   "cell_type": "code",
   "execution_count": 92,
   "metadata": {},
   "outputs": [],
   "source": [
    "def textblob_opinion(text_content, pos_count_container, neg_count_container):\n",
    "    opinion = TextBlob(text_content, analyzer=NaiveBayesAnalyzer())\n",
    "    \n",
    "    if opinion.sentiment.classification == 'pos':\n",
    "        pos_count_container.append(1)\n",
    "        neg_count_container.append(0)\n",
    "        \n",
    "    elif opinion.sentiment.classification == 'neg':\n",
    "        pos_count_container.append(0)\n",
    "        neg_count_container.append(1)\n",
    "        \n",
    "    else:\n",
    "        pos_count_container.append(0)\n",
    "        neg_count_container.append(0)\n",
    "\n",
    "\n",
    "for index, row in data.iterrows():\n",
    "    date.append(row[\"date\"])\n",
    "    \n",
    "    if type(row[\"title\"]) == str:\n",
    "        textblob_opinion(row[\"title\"], title_pos, title_neg)    \n",
    "    else:\n",
    "        title_pos.append(0)\n",
    "        title_neg.append(0)\n",
    "        \n",
    "    if type(row[\"description\"]) == str:\n",
    "        textblob_opinion(row[\"description\"], desc_pos, desc_neg)\n",
    "    else:\n",
    "        desc_pos.append(0)\n",
    "        desc_neg.append(0)\n",
    "            \n",
    "    if type(row[\"content\"]) == str:\n",
    "        textblob_opinion(row[\"content\"], content_pos, content_neg)\n",
    "    else:\n",
    "        content_pos.append(0)\n",
    "        content_neg.append(0)\n",
    "    "
   ]
  },
  {
   "cell_type": "code",
   "execution_count": 94,
   "metadata": {},
   "outputs": [],
   "source": [
    "d = {\"date\": date, \"title_pos\": title_pos, \"title_neg\": title_neg, \"desc_pos\": desc_pos, \"desc_neg\": desc_neg, \n",
    "    \"content_pos\": content_pos, \"content_neg\": content_neg}"
   ]
  },
  {
   "cell_type": "code",
   "execution_count": 1,
   "metadata": {},
   "outputs": [],
   "source": [
    "#tb_df_csv = tb_df.to_csv(\"sentiment_analysis.csv\")"
   ]
  },
  {
   "cell_type": "markdown",
   "metadata": {},
   "source": [
    "## Reading from sentiment_analysis.csv which stores the senitment analysis results of the data. for further analysis of the data is very expensive operation to do be all over again."
   ]
  },
  {
   "cell_type": "code",
   "execution_count": 5,
   "metadata": {},
   "outputs": [],
   "source": [
    "tb_df = pd.read_csv(\"sentiment_analysis.csv\")"
   ]
  },
  {
   "cell_type": "code",
   "execution_count": 6,
   "metadata": {},
   "outputs": [],
   "source": [
    "date = tb_df.date\n",
    "title_pos = tb_df.title_pos\n",
    "title_neg = tb_df.title_neg\n",
    "desc_pos = tb_df.desc_pos\n",
    "desc_neg = tb_df.desc_neg\n",
    "content_pos = tb_df.content_pos\n",
    "content_neg = tb_df.content_neg"
   ]
  },
  {
   "cell_type": "code",
   "execution_count": 7,
   "metadata": {},
   "outputs": [],
   "source": [
    "d = {\"date\": date, \"title_pos\": title_pos, \"title_neg\": title_neg, \"desc_pos\": desc_pos, \"desc_neg\": desc_neg, \n",
    "    \"content_pos\": content_pos, \"content_neg\": content_neg}"
   ]
  },
  {
   "cell_type": "code",
   "execution_count": 8,
   "metadata": {},
   "outputs": [],
   "source": [
    "unique_dates = list()\n",
    "\n",
    "for dt in d[\"date\"]:\n",
    "    if dt not in unique_dates:\n",
    "        unique_dates.append(dt)"
   ]
  },
  {
   "cell_type": "code",
   "execution_count": 9,
   "metadata": {},
   "outputs": [],
   "source": [
    "date_index_dict = {dt: list() for dt in unique_dates}"
   ]
  },
  {
   "cell_type": "code",
   "execution_count": 10,
   "metadata": {},
   "outputs": [],
   "source": [
    "for u_date in unique_dates:\n",
    "    for idx in range(len(d[\"date\"])):\n",
    "        if u_date == d[\"date\"][idx]:\n",
    "           date_index_dict[u_date].append(idx)"
   ]
  },
  {
   "cell_type": "code",
   "execution_count": 11,
   "metadata": {},
   "outputs": [],
   "source": [
    "unq_title_pos = list()\n",
    "unq_title_neg = list()\n",
    "unq_desc_pos = list()\n",
    "unq_desc_neg = list()\n",
    "unq_content_pos = list()\n",
    "unq_content_neg = list()"
   ]
  },
  {
   "cell_type": "code",
   "execution_count": 12,
   "metadata": {},
   "outputs": [],
   "source": [
    "for dt in date_index_dict:\n",
    "    t_pos = t_neg = c_pos = c_neg = d_pos = d_neg = 0\n",
    "    \n",
    "    for idx in date_index_dict[dt]:\n",
    "        t_pos += title_pos[idx] \n",
    "        t_neg += title_neg[idx] \n",
    "        d_pos += desc_pos[idx] \n",
    "        d_neg += desc_neg[idx]\n",
    "        c_pos += content_pos[idx]\n",
    "        c_neg += content_neg[idx]\n",
    "    \n",
    "    unq_title_pos.append(t_pos)\n",
    "    unq_title_neg.append(t_neg)\n",
    "    unq_desc_pos.append(d_pos)\n",
    "    unq_desc_neg.append(d_neg)\n",
    "    unq_content_pos.append(c_pos)\n",
    "    unq_content_neg.append(c_neg)\n",
    "        "
   ]
  },
  {
   "cell_type": "code",
   "execution_count": 13,
   "metadata": {},
   "outputs": [],
   "source": [
    "unq_d = {\n",
    "     \"date\": unique_dates, \n",
    "     \"title_pos\": unq_title_pos, \n",
    "     \"title_neg\": unq_title_neg, \n",
    "     \"desc_pos\": unq_desc_pos, \n",
    "     \"desc_neg\": unq_desc_neg, \n",
    "     \"content_pos\": unq_content_pos, \n",
    "     \"content_neg\": unq_content_neg\n",
    "}"
   ]
  },
  {
   "cell_type": "code",
   "execution_count": 14,
   "metadata": {},
   "outputs": [],
   "source": [
    "new_tb_df = pd.DataFrame(unq_d)"
   ]
  },
  {
   "cell_type": "code",
   "execution_count": 15,
   "metadata": {},
   "outputs": [
    {
     "data": {
      "text/html": [
       "<div>\n",
       "<style scoped>\n",
       "    .dataframe tbody tr th:only-of-type {\n",
       "        vertical-align: middle;\n",
       "    }\n",
       "\n",
       "    .dataframe tbody tr th {\n",
       "        vertical-align: top;\n",
       "    }\n",
       "\n",
       "    .dataframe thead th {\n",
       "        text-align: right;\n",
       "    }\n",
       "</style>\n",
       "<table border=\"1\" class=\"dataframe\">\n",
       "  <thead>\n",
       "    <tr style=\"text-align: right;\">\n",
       "      <th></th>\n",
       "      <th>date</th>\n",
       "      <th>title_pos</th>\n",
       "      <th>title_neg</th>\n",
       "      <th>desc_pos</th>\n",
       "      <th>desc_neg</th>\n",
       "      <th>content_pos</th>\n",
       "      <th>content_neg</th>\n",
       "    </tr>\n",
       "  </thead>\n",
       "  <tbody>\n",
       "    <tr>\n",
       "      <td>0</td>\n",
       "      <td>2017-11-08</td>\n",
       "      <td>1</td>\n",
       "      <td>1</td>\n",
       "      <td>2</td>\n",
       "      <td>0</td>\n",
       "      <td>2</td>\n",
       "      <td>0</td>\n",
       "    </tr>\n",
       "    <tr>\n",
       "      <td>1</td>\n",
       "      <td>2017-11-09</td>\n",
       "      <td>1</td>\n",
       "      <td>3</td>\n",
       "      <td>4</td>\n",
       "      <td>0</td>\n",
       "      <td>4</td>\n",
       "      <td>0</td>\n",
       "    </tr>\n",
       "    <tr>\n",
       "      <td>2</td>\n",
       "      <td>2017-11-10</td>\n",
       "      <td>5</td>\n",
       "      <td>2</td>\n",
       "      <td>5</td>\n",
       "      <td>2</td>\n",
       "      <td>7</td>\n",
       "      <td>0</td>\n",
       "    </tr>\n",
       "    <tr>\n",
       "      <td>3</td>\n",
       "      <td>2017-11-11</td>\n",
       "      <td>0</td>\n",
       "      <td>4</td>\n",
       "      <td>4</td>\n",
       "      <td>0</td>\n",
       "      <td>4</td>\n",
       "      <td>0</td>\n",
       "    </tr>\n",
       "    <tr>\n",
       "      <td>4</td>\n",
       "      <td>2017-11-12</td>\n",
       "      <td>4</td>\n",
       "      <td>1</td>\n",
       "      <td>4</td>\n",
       "      <td>1</td>\n",
       "      <td>4</td>\n",
       "      <td>0</td>\n",
       "    </tr>\n",
       "  </tbody>\n",
       "</table>\n",
       "</div>"
      ],
      "text/plain": [
       "         date  title_pos  title_neg  desc_pos  desc_neg  content_pos  \\\n",
       "0  2017-11-08          1          1         2         0            2   \n",
       "1  2017-11-09          1          3         4         0            4   \n",
       "2  2017-11-10          5          2         5         2            7   \n",
       "3  2017-11-11          0          4         4         0            4   \n",
       "4  2017-11-12          4          1         4         1            4   \n",
       "\n",
       "   content_neg  \n",
       "0            0  \n",
       "1            0  \n",
       "2            0  \n",
       "3            0  \n",
       "4            0  "
      ]
     },
     "execution_count": 15,
     "metadata": {},
     "output_type": "execute_result"
    }
   ],
   "source": [
    "new_tb_df.head()"
   ]
  },
  {
   "cell_type": "code",
   "execution_count": 23,
   "metadata": {},
   "outputs": [
    {
     "data": {
      "text/plain": [
       "(905, 7)"
      ]
     },
     "execution_count": 23,
     "metadata": {},
     "output_type": "execute_result"
    }
   ],
   "source": [
    "new_tb_df.shape"
   ]
  },
  {
   "cell_type": "code",
   "execution_count": 28,
   "metadata": {},
   "outputs": [
    {
     "data": {
      "text/html": [
       "<div>\n",
       "<style scoped>\n",
       "    .dataframe tbody tr th:only-of-type {\n",
       "        vertical-align: middle;\n",
       "    }\n",
       "\n",
       "    .dataframe tbody tr th {\n",
       "        vertical-align: top;\n",
       "    }\n",
       "\n",
       "    .dataframe thead th {\n",
       "        text-align: right;\n",
       "    }\n",
       "</style>\n",
       "<table border=\"1\" class=\"dataframe\">\n",
       "  <thead>\n",
       "    <tr style=\"text-align: right;\">\n",
       "      <th></th>\n",
       "      <th>title_pos</th>\n",
       "      <th>title_neg</th>\n",
       "      <th>desc_pos</th>\n",
       "      <th>desc_neg</th>\n",
       "      <th>content_pos</th>\n",
       "      <th>content_neg</th>\n",
       "    </tr>\n",
       "  </thead>\n",
       "  <tbody>\n",
       "    <tr>\n",
       "      <td>0</td>\n",
       "      <td>0.166667</td>\n",
       "      <td>0.166667</td>\n",
       "      <td>0.333333</td>\n",
       "      <td>0.000000</td>\n",
       "      <td>0.333333</td>\n",
       "      <td>0.0</td>\n",
       "    </tr>\n",
       "    <tr>\n",
       "      <td>1</td>\n",
       "      <td>0.083333</td>\n",
       "      <td>0.250000</td>\n",
       "      <td>0.333333</td>\n",
       "      <td>0.000000</td>\n",
       "      <td>0.333333</td>\n",
       "      <td>0.0</td>\n",
       "    </tr>\n",
       "    <tr>\n",
       "      <td>2</td>\n",
       "      <td>0.238095</td>\n",
       "      <td>0.095238</td>\n",
       "      <td>0.238095</td>\n",
       "      <td>0.095238</td>\n",
       "      <td>0.333333</td>\n",
       "      <td>0.0</td>\n",
       "    </tr>\n",
       "    <tr>\n",
       "      <td>3</td>\n",
       "      <td>0.000000</td>\n",
       "      <td>0.333333</td>\n",
       "      <td>0.333333</td>\n",
       "      <td>0.000000</td>\n",
       "      <td>0.333333</td>\n",
       "      <td>0.0</td>\n",
       "    </tr>\n",
       "    <tr>\n",
       "      <td>4</td>\n",
       "      <td>0.285714</td>\n",
       "      <td>0.071429</td>\n",
       "      <td>0.285714</td>\n",
       "      <td>0.071429</td>\n",
       "      <td>0.285714</td>\n",
       "      <td>0.0</td>\n",
       "    </tr>\n",
       "  </tbody>\n",
       "</table>\n",
       "</div>"
      ],
      "text/plain": [
       "   title_pos  title_neg  desc_pos  desc_neg  content_pos  content_neg\n",
       "0   0.166667   0.166667  0.333333  0.000000     0.333333          0.0\n",
       "1   0.083333   0.250000  0.333333  0.000000     0.333333          0.0\n",
       "2   0.238095   0.095238  0.238095  0.095238     0.333333          0.0\n",
       "3   0.000000   0.333333  0.333333  0.000000     0.333333          0.0\n",
       "4   0.285714   0.071429  0.285714  0.071429     0.285714          0.0"
      ]
     },
     "execution_count": 28,
     "metadata": {},
     "output_type": "execute_result"
    }
   ],
   "source": [
    "x = new_tb_df.drop(\"date\", axis=1)\n",
    "x = x.div(new_tb_df.sum(axis=1), axis=0)\n",
    "x.head()"
   ]
  },
  {
   "cell_type": "code",
   "execution_count": 29,
   "metadata": {},
   "outputs": [],
   "source": [
    "x['date'] = unique_dates"
   ]
  },
  {
   "cell_type": "code",
   "execution_count": 30,
   "metadata": {},
   "outputs": [
    {
     "data": {
      "text/html": [
       "<div>\n",
       "<style scoped>\n",
       "    .dataframe tbody tr th:only-of-type {\n",
       "        vertical-align: middle;\n",
       "    }\n",
       "\n",
       "    .dataframe tbody tr th {\n",
       "        vertical-align: top;\n",
       "    }\n",
       "\n",
       "    .dataframe thead th {\n",
       "        text-align: right;\n",
       "    }\n",
       "</style>\n",
       "<table border=\"1\" class=\"dataframe\">\n",
       "  <thead>\n",
       "    <tr style=\"text-align: right;\">\n",
       "      <th></th>\n",
       "      <th>date</th>\n",
       "      <th>title_pos</th>\n",
       "      <th>title_neg</th>\n",
       "      <th>desc_pos</th>\n",
       "      <th>desc_neg</th>\n",
       "      <th>content_pos</th>\n",
       "      <th>content_neg</th>\n",
       "    </tr>\n",
       "  </thead>\n",
       "  <tbody>\n",
       "    <tr>\n",
       "      <td>0</td>\n",
       "      <td>2017-11-08</td>\n",
       "      <td>0.166667</td>\n",
       "      <td>0.166667</td>\n",
       "      <td>0.333333</td>\n",
       "      <td>0.000000</td>\n",
       "      <td>0.333333</td>\n",
       "      <td>0.000000</td>\n",
       "    </tr>\n",
       "    <tr>\n",
       "      <td>1</td>\n",
       "      <td>2017-11-09</td>\n",
       "      <td>0.083333</td>\n",
       "      <td>0.250000</td>\n",
       "      <td>0.333333</td>\n",
       "      <td>0.000000</td>\n",
       "      <td>0.333333</td>\n",
       "      <td>0.000000</td>\n",
       "    </tr>\n",
       "    <tr>\n",
       "      <td>2</td>\n",
       "      <td>2017-11-10</td>\n",
       "      <td>0.238095</td>\n",
       "      <td>0.095238</td>\n",
       "      <td>0.238095</td>\n",
       "      <td>0.095238</td>\n",
       "      <td>0.333333</td>\n",
       "      <td>0.000000</td>\n",
       "    </tr>\n",
       "    <tr>\n",
       "      <td>3</td>\n",
       "      <td>2017-11-11</td>\n",
       "      <td>0.000000</td>\n",
       "      <td>0.333333</td>\n",
       "      <td>0.333333</td>\n",
       "      <td>0.000000</td>\n",
       "      <td>0.333333</td>\n",
       "      <td>0.000000</td>\n",
       "    </tr>\n",
       "    <tr>\n",
       "      <td>4</td>\n",
       "      <td>2017-11-12</td>\n",
       "      <td>0.285714</td>\n",
       "      <td>0.071429</td>\n",
       "      <td>0.285714</td>\n",
       "      <td>0.071429</td>\n",
       "      <td>0.285714</td>\n",
       "      <td>0.000000</td>\n",
       "    </tr>\n",
       "    <tr>\n",
       "      <td>...</td>\n",
       "      <td>...</td>\n",
       "      <td>...</td>\n",
       "      <td>...</td>\n",
       "      <td>...</td>\n",
       "      <td>...</td>\n",
       "      <td>...</td>\n",
       "      <td>...</td>\n",
       "    </tr>\n",
       "    <tr>\n",
       "      <td>900</td>\n",
       "      <td>2020-04-26</td>\n",
       "      <td>0.266667</td>\n",
       "      <td>0.066667</td>\n",
       "      <td>0.266667</td>\n",
       "      <td>0.066667</td>\n",
       "      <td>0.333333</td>\n",
       "      <td>0.000000</td>\n",
       "    </tr>\n",
       "    <tr>\n",
       "      <td>901</td>\n",
       "      <td>2020-04-27</td>\n",
       "      <td>0.266667</td>\n",
       "      <td>0.066667</td>\n",
       "      <td>0.266667</td>\n",
       "      <td>0.066667</td>\n",
       "      <td>0.333333</td>\n",
       "      <td>0.000000</td>\n",
       "    </tr>\n",
       "    <tr>\n",
       "      <td>902</td>\n",
       "      <td>2020-04-28</td>\n",
       "      <td>0.294118</td>\n",
       "      <td>0.058824</td>\n",
       "      <td>0.352941</td>\n",
       "      <td>0.000000</td>\n",
       "      <td>0.294118</td>\n",
       "      <td>0.000000</td>\n",
       "    </tr>\n",
       "    <tr>\n",
       "      <td>903</td>\n",
       "      <td>2020-04-29</td>\n",
       "      <td>0.142857</td>\n",
       "      <td>0.214286</td>\n",
       "      <td>0.357143</td>\n",
       "      <td>0.000000</td>\n",
       "      <td>0.285714</td>\n",
       "      <td>0.000000</td>\n",
       "    </tr>\n",
       "    <tr>\n",
       "      <td>904</td>\n",
       "      <td>2020-04-30</td>\n",
       "      <td>0.277778</td>\n",
       "      <td>0.055556</td>\n",
       "      <td>0.222222</td>\n",
       "      <td>0.111111</td>\n",
       "      <td>0.277778</td>\n",
       "      <td>0.055556</td>\n",
       "    </tr>\n",
       "  </tbody>\n",
       "</table>\n",
       "<p>905 rows × 7 columns</p>\n",
       "</div>"
      ],
      "text/plain": [
       "           date  title_pos  title_neg  desc_pos  desc_neg  content_pos  \\\n",
       "0    2017-11-08   0.166667   0.166667  0.333333  0.000000     0.333333   \n",
       "1    2017-11-09   0.083333   0.250000  0.333333  0.000000     0.333333   \n",
       "2    2017-11-10   0.238095   0.095238  0.238095  0.095238     0.333333   \n",
       "3    2017-11-11   0.000000   0.333333  0.333333  0.000000     0.333333   \n",
       "4    2017-11-12   0.285714   0.071429  0.285714  0.071429     0.285714   \n",
       "..          ...        ...        ...       ...       ...          ...   \n",
       "900  2020-04-26   0.266667   0.066667  0.266667  0.066667     0.333333   \n",
       "901  2020-04-27   0.266667   0.066667  0.266667  0.066667     0.333333   \n",
       "902  2020-04-28   0.294118   0.058824  0.352941  0.000000     0.294118   \n",
       "903  2020-04-29   0.142857   0.214286  0.357143  0.000000     0.285714   \n",
       "904  2020-04-30   0.277778   0.055556  0.222222  0.111111     0.277778   \n",
       "\n",
       "     content_neg  \n",
       "0       0.000000  \n",
       "1       0.000000  \n",
       "2       0.000000  \n",
       "3       0.000000  \n",
       "4       0.000000  \n",
       "..           ...  \n",
       "900     0.000000  \n",
       "901     0.000000  \n",
       "902     0.000000  \n",
       "903     0.000000  \n",
       "904     0.055556  \n",
       "\n",
       "[905 rows x 7 columns]"
      ]
     },
     "execution_count": 30,
     "metadata": {},
     "output_type": "execute_result"
    }
   ],
   "source": [
    "cols = list(unq_d.keys())\n",
    "x.reindex(columns=cols)"
   ]
  },
  {
   "cell_type": "code",
   "execution_count": 34,
   "metadata": {},
   "outputs": [],
   "source": [
    "x_csv = x.to_csv(\"norma_sentiment_analysis.csv\")"
   ]
  },
  {
   "cell_type": "markdown",
   "metadata": {},
   "source": [
    "## nltk sentiment analyzer"
   ]
  },
  {
   "cell_type": "code",
   "execution_count": 14,
   "metadata": {},
   "outputs": [],
   "source": [
    "sid = SentimentIntensityAnalyzer()"
   ]
  },
  {
   "cell_type": "code",
   "execution_count": 47,
   "metadata": {},
   "outputs": [
    {
     "name": "stdout",
     "output_type": "stream",
     "text": [
      "Some of its greatest advances depend heavily on local conditions.\n",
      "{'neg': 0.039, 'neu': 0.852, 'pos': 0.11, 'compound': 0.9969}\n"
     ]
    }
   ],
   "source": [
    "print(data.description[150])\n",
    "print(sid.polarity_scores(data.content[150]))"
   ]
  }
 ],
 "metadata": {
  "kernelspec": {
   "display_name": "Python 3",
   "language": "python",
   "name": "python3"
  },
  "language_info": {
   "codemirror_mode": {
    "name": "ipython",
    "version": 3
   },
   "file_extension": ".py",
   "mimetype": "text/x-python",
   "name": "python",
   "nbconvert_exporter": "python",
   "pygments_lexer": "ipython3",
   "version": "3.7.4"
  }
 },
 "nbformat": 4,
 "nbformat_minor": 2
}
